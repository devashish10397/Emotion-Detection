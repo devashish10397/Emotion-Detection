{
 "cells": [
  {
   "cell_type": "code",
   "execution_count": null,
   "id": "7419ca04",
   "metadata": {},
   "outputs": [
    {
     "name": "stderr",
     "output_type": "stream",
     "text": [
      "C:\\Users\\Devashish\\AppData\\Local\\Temp\\ipykernel_23164\\3268944149.py:24: DeprecationWarning: BILINEAR is deprecated and will be removed in Pillow 10 (2023-07-01). Use Resampling.BILINEAR instead.\n",
      "  image = image.resize((48, 48), resample=Image.BILINEAR)\n"
     ]
    }
   ],
   "source": [
    "import os\n",
    "# Importing Image class from PIL module\n",
    "from PIL import Image\n",
    "import numpy as np\n",
    "\n",
    "# To storing the data\n",
    "# Create an empty dictionary\n",
    "data_dict = {}\n",
    "\n",
    "# Open the text file\n",
    "with open('list_patition_label.txt', 'r') as file:\n",
    "    for line in file:\n",
    "        key, value = line.strip().split()[0].split('.')[0],line.strip().split()[1] \n",
    "        data_dict[key] = value\n",
    "\n",
    "data = []\n",
    "# Loop over the image files in the folder\n",
    "for filename in os.listdir('aligned'):\n",
    "    if filename.endswith('.jpg'):\n",
    "        # Open an image and convert it to grayscale\n",
    "        #print(filename)\n",
    "        image = Image.open('aligned/' + filename).convert('L')\n",
    "        # Resize the image to 48x48 pixels\n",
    "        image = image.resize((48, 48), resample=Image.BILINEAR)\n",
    "        # Convert the image to a NumPy array\n",
    "        image_array = np.array(image)\n",
    "        # Flatten the image array into a 1D array\n",
    "        image_flat = image_array.reshape(-1)\n",
    "        # Convert the pixel values to a comma-separated string\n",
    "        image_string = ' '.join(str(pixel) for pixel in image_flat)\n",
    "        \n",
    "        #making it similar to the key\n",
    "        filename = filename.split('.')[0].split('_aligned')[0]\n",
    "        \n",
    "        label = data_dict[filename]\n",
    "        \n",
    "        # Skip the image if the label is 7\n",
    "        if label == '7':\n",
    "            continue\n",
    "        # Add the emotion and pixel data to the list\n",
    "        data.append([ label, image_string])\n",
    "         \n",
    "# Write the data to a CSV file\n",
    "with open('rafDB.csv', 'w') as f:\n",
    "    f.write('emotion,pixels\\n')\n",
    "    for row in data:\n",
    "        f.write('{},{}\\n'.format(row[0], row[1]))\n"
   ]
  },
  {
   "cell_type": "code",
   "execution_count": null,
   "id": "40a53aa5",
   "metadata": {},
   "outputs": [],
   "source": []
  },
  {
   "cell_type": "code",
   "execution_count": null,
   "id": "0ead81d7",
   "metadata": {},
   "outputs": [],
   "source": []
  },
  {
   "cell_type": "code",
   "execution_count": null,
   "id": "5425e486",
   "metadata": {},
   "outputs": [],
   "source": []
  }
 ],
 "metadata": {
  "kernelspec": {
   "display_name": "Python 3 (ipykernel)",
   "language": "python",
   "name": "python3"
  },
  "language_info": {
   "codemirror_mode": {
    "name": "ipython",
    "version": 3
   },
   "file_extension": ".py",
   "mimetype": "text/x-python",
   "name": "python",
   "nbconvert_exporter": "python",
   "pygments_lexer": "ipython3",
   "version": "3.9.13"
  }
 },
 "nbformat": 4,
 "nbformat_minor": 5
}

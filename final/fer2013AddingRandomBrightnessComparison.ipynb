{
  "nbformat": 4,
  "nbformat_minor": 0,
  "metadata": {
    "colab": {
      "provenance": [],
      "toc_visible": true
    },
    "kernelspec": {
      "name": "python3",
      "display_name": "Python 3"
    },
    "language_info": {
      "name": "python"
    },
    "accelerator": "GPU",
    "gpuClass": "standard"
  },
  "cells": [
    {
      "cell_type": "markdown",
      "source": [
        "# Loading the csv"
      ],
      "metadata": {
        "id": "lrOuQxl3a9hf"
      }
    },
    {
      "cell_type": "code",
      "execution_count": null,
      "metadata": {
        "id": "H_Ff8LwCX8mu"
      },
      "outputs": [],
      "source": [
        "import matplotlib.pyplot as plt\n",
        "import numpy as np\n",
        "import tensorflow as tf\n",
        "import tensorflow_datasets as tfds\n",
        "import pandas as pd\n",
        "from sklearn.model_selection import train_test_split\n",
        "from tensorflow.keras import layers\n",
        "import cv2"
      ]
    },
    {
      "cell_type": "code",
      "source": [
        "# Path to the original CSV file\n",
        "csv_path = '/content/drive/MyDrive/RAFdb/fer2013.csv'\n",
        "data = pd.read_csv(csv_path)\n",
        "images = data['pixels']\n",
        "labels = data['emotion']\n",
        "data.head()"
      ],
      "metadata": {
        "id": "bfQrgyoHbUa_"
      },
      "execution_count": null,
      "outputs": []
    },
    {
      "cell_type": "markdown",
      "source": [
        "# With Random Brightness"
      ],
      "metadata": {
        "id": "NNSX4nQXaPY7"
      }
    },
    {
      "cell_type": "code",
      "source": [
        "labels.shape\n",
        "#images.shape"
      ],
      "metadata": {
        "colab": {
          "base_uri": "https://localhost:8080/"
        },
        "id": "BsrIJTNXZHC8",
        "outputId": "cb55a797-97c4-4b02-e316-cebd890936b8"
      },
      "execution_count": null,
      "outputs": [
        {
          "output_type": "execute_result",
          "data": {
            "text/plain": [
              "(35887,)"
            ]
          },
          "metadata": {},
          "execution_count": 25
        }
      ]
    },
    {
      "cell_type": "code",
      "source": [
        "def preprocess_images(images):\n",
        "    images = np.array([np.fromstring(image, dtype=int, sep=' ').reshape(48, 48) for image in images])\n",
        "    images = np.expand_dims(images, axis=-1)\n",
        "    images = images / 255.0\n",
        "    brightness = tf.random.uniform([], -0.5, 0.5)\n",
        "    images = tf.image.adjust_brightness(images, delta=brightness)\n",
        "    return images.numpy() # convert Tensor object back to numpy array\n",
        "\n",
        "images = preprocess_images(images)\n"
      ],
      "metadata": {
        "id": "gsqOd7t1bCF4"
      },
      "execution_count": null,
      "outputs": []
    },
    {
      "cell_type": "code",
      "source": [
        "X_train, X_test, y_train, y_test = train_test_split(images, labels, test_size=0.1, random_state=42)\n",
        "X_train, X_val, y_train, y_val = train_test_split(X_train, y_train, test_size=0.22, random_state=42)"
      ],
      "metadata": {
        "id": "q8ngZPkflPe8"
      },
      "execution_count": null,
      "outputs": []
    },
    {
      "cell_type": "code",
      "source": [
        "model = tf.keras.Sequential([\n",
        "    layers.Reshape((48, 48), input_shape=(48, 48, 1)),\n",
        "    layers.GRU(256, return_sequences=True),\n",
        "    layers.BatchNormalization(),\n",
        "    layers.Dropout(0.5),\n",
        "    layers.GRU(128, return_sequences=True),\n",
        "    layers.BatchNormalization(),\n",
        "    layers.Dropout(0.5),\n",
        "    layers.GRU(64),\n",
        "    layers.BatchNormalization(),\n",
        "    layers.Dropout(0.5),\n",
        "    layers.Dense(7, activation='softmax')\n",
        "])\n"
      ],
      "metadata": {
        "id": "6xlV7eS1ZuCS"
      },
      "execution_count": null,
      "outputs": []
    },
    {
      "cell_type": "code",
      "source": [
        "model.compile(\n",
        "    optimizer=tf.keras.optimizers.Adam(learning_rate=0.001),\n",
        "    loss=tf.keras.losses.SparseCategoricalCrossentropy(),\n",
        "    metrics=['accuracy']\n",
        ")\n",
        "model.compile(optimizer='adam',\n",
        "              loss='sparse_categorical_crossentropy',\n",
        "              metrics=['accuracy'])\n",
        "model.fit(X_train, y_train, validation_data=(X_val, y_val), epochs=24)"
      ],
      "metadata": {
        "colab": {
          "base_uri": "https://localhost:8080/"
        },
        "id": "_fLnR4oqZylr",
        "outputId": "b3560df3-b097-4570-da51-49a40c06fa09"
      },
      "execution_count": null,
      "outputs": [
        {
          "output_type": "stream",
          "name": "stdout",
          "text": [
            "Epoch 1/24\n",
            "788/788 [==============================] - 25s 16ms/step - loss: 2.0747 - accuracy: 0.2279 - val_loss: 1.7282 - val_accuracy: 0.3127\n",
            "Epoch 2/24\n",
            "788/788 [==============================] - 10s 13ms/step - loss: 1.7345 - accuracy: 0.3135 - val_loss: 1.6493 - val_accuracy: 0.3529\n",
            "Epoch 3/24\n",
            "788/788 [==============================] - 10s 13ms/step - loss: 1.6683 - accuracy: 0.3446 - val_loss: 1.6157 - val_accuracy: 0.3708\n",
            "Epoch 4/24\n",
            "788/788 [==============================] - 11s 14ms/step - loss: 1.6315 - accuracy: 0.3625 - val_loss: 1.5717 - val_accuracy: 0.3849\n",
            "Epoch 5/24\n",
            "788/788 [==============================] - 12s 15ms/step - loss: 1.6032 - accuracy: 0.3752 - val_loss: 1.5498 - val_accuracy: 0.3921\n",
            "Epoch 6/24\n",
            "788/788 [==============================] - 11s 14ms/step - loss: 1.5656 - accuracy: 0.3917 - val_loss: 1.5381 - val_accuracy: 0.4057\n",
            "Epoch 7/24\n",
            "788/788 [==============================] - 10s 13ms/step - loss: 1.5366 - accuracy: 0.4024 - val_loss: 1.5165 - val_accuracy: 0.4118\n",
            "Epoch 8/24\n",
            "788/788 [==============================] - 10s 13ms/step - loss: 1.5041 - accuracy: 0.4176 - val_loss: 1.4705 - val_accuracy: 0.4299\n",
            "Epoch 9/24\n",
            "788/788 [==============================] - 11s 14ms/step - loss: 1.4767 - accuracy: 0.4317 - val_loss: 1.4446 - val_accuracy: 0.4417\n",
            "Epoch 10/24\n",
            "788/788 [==============================] - 13s 16ms/step - loss: 1.4425 - accuracy: 0.4463 - val_loss: 1.4506 - val_accuracy: 0.4332\n",
            "Epoch 11/24\n",
            "788/788 [==============================] - 13s 16ms/step - loss: 1.4120 - accuracy: 0.4611 - val_loss: 1.4102 - val_accuracy: 0.4679\n",
            "Epoch 12/24\n",
            "788/788 [==============================] - 12s 15ms/step - loss: 1.3826 - accuracy: 0.4730 - val_loss: 1.4148 - val_accuracy: 0.4634\n",
            "Epoch 13/24\n",
            "788/788 [==============================] - 11s 14ms/step - loss: 1.3498 - accuracy: 0.4834 - val_loss: 1.4005 - val_accuracy: 0.4695\n",
            "Epoch 14/24\n",
            "788/788 [==============================] - 11s 14ms/step - loss: 1.3145 - accuracy: 0.5019 - val_loss: 1.4339 - val_accuracy: 0.4651\n",
            "Epoch 15/24\n",
            "788/788 [==============================] - 12s 15ms/step - loss: 1.2815 - accuracy: 0.5168 - val_loss: 1.3896 - val_accuracy: 0.4710\n",
            "Epoch 16/24\n",
            "788/788 [==============================] - 12s 15ms/step - loss: 1.2583 - accuracy: 0.5283 - val_loss: 1.3795 - val_accuracy: 0.4842\n",
            "Epoch 17/24\n",
            "788/788 [==============================] - 11s 14ms/step - loss: 1.2264 - accuracy: 0.5448 - val_loss: 1.4125 - val_accuracy: 0.4783\n",
            "Epoch 18/24\n",
            "788/788 [==============================] - 14s 18ms/step - loss: 1.1979 - accuracy: 0.5547 - val_loss: 1.4047 - val_accuracy: 0.4820\n",
            "Epoch 19/24\n",
            "788/788 [==============================] - 11s 14ms/step - loss: 1.1674 - accuracy: 0.5634 - val_loss: 1.4026 - val_accuracy: 0.4873\n",
            "Epoch 20/24\n",
            "788/788 [==============================] - 11s 14ms/step - loss: 1.1372 - accuracy: 0.5821 - val_loss: 1.4744 - val_accuracy: 0.4858\n",
            "Epoch 21/24\n",
            "788/788 [==============================] - 10s 13ms/step - loss: 1.1073 - accuracy: 0.5915 - val_loss: 1.4576 - val_accuracy: 0.4788\n",
            "Epoch 22/24\n",
            "788/788 [==============================] - 11s 14ms/step - loss: 1.0810 - accuracy: 0.6061 - val_loss: 1.5356 - val_accuracy: 0.4655\n",
            "Epoch 23/24\n",
            "788/788 [==============================] - 11s 14ms/step - loss: 1.0520 - accuracy: 0.6146 - val_loss: 1.4863 - val_accuracy: 0.4816\n",
            "Epoch 24/24\n",
            "788/788 [==============================] - 11s 14ms/step - loss: 1.0201 - accuracy: 0.6289 - val_loss: 1.4889 - val_accuracy: 0.4969\n"
          ]
        },
        {
          "output_type": "execute_result",
          "data": {
            "text/plain": [
              "<keras.callbacks.History at 0x7fe72a72af10>"
            ]
          },
          "metadata": {},
          "execution_count": 30
        }
      ]
    },
    {
      "cell_type": "markdown",
      "source": [
        "# without Random Brightness"
      ],
      "metadata": {
        "id": "hKB6GuSGaU-a"
      }
    },
    {
      "cell_type": "code",
      "source": [
        "# Path to the original CSV file\n",
        "csv_path = '/content/drive/MyDrive/RAFdb/fer2013.csv'\n",
        "data = pd.read_csv(csv_path)\n",
        "images = data['pixels']\n",
        "labels = data['emotion']\n",
        "data.head()"
      ],
      "metadata": {
        "colab": {
          "base_uri": "https://localhost:8080/",
          "height": 206
        },
        "id": "ShJtlV51bXfj",
        "outputId": "228980a4-3fad-4858-d9e2-6521f190fdb6"
      },
      "execution_count": null,
      "outputs": [
        {
          "output_type": "execute_result",
          "data": {
            "text/plain": [
              "   emotion                                             pixels     Usage\n",
              "0        0  70 80 82 72 58 58 60 63 54 58 60 48 89 115 121...  Training\n",
              "1        0  151 150 147 155 148 133 111 140 170 174 182 15...  Training\n",
              "2        2  231 212 156 164 174 138 161 173 182 200 106 38...  Training\n",
              "3        4  24 32 36 30 32 23 19 20 30 41 21 22 32 34 21 1...  Training\n",
              "4        6  4 0 0 0 0 0 0 0 0 0 0 0 3 15 23 28 48 50 58 84...  Training"
            ],
            "text/html": [
              "\n",
              "  <div id=\"df-29e82df8-6f45-48c6-b4cb-4b570f079d39\">\n",
              "    <div class=\"colab-df-container\">\n",
              "      <div>\n",
              "<style scoped>\n",
              "    .dataframe tbody tr th:only-of-type {\n",
              "        vertical-align: middle;\n",
              "    }\n",
              "\n",
              "    .dataframe tbody tr th {\n",
              "        vertical-align: top;\n",
              "    }\n",
              "\n",
              "    .dataframe thead th {\n",
              "        text-align: right;\n",
              "    }\n",
              "</style>\n",
              "<table border=\"1\" class=\"dataframe\">\n",
              "  <thead>\n",
              "    <tr style=\"text-align: right;\">\n",
              "      <th></th>\n",
              "      <th>emotion</th>\n",
              "      <th>pixels</th>\n",
              "      <th>Usage</th>\n",
              "    </tr>\n",
              "  </thead>\n",
              "  <tbody>\n",
              "    <tr>\n",
              "      <th>0</th>\n",
              "      <td>0</td>\n",
              "      <td>70 80 82 72 58 58 60 63 54 58 60 48 89 115 121...</td>\n",
              "      <td>Training</td>\n",
              "    </tr>\n",
              "    <tr>\n",
              "      <th>1</th>\n",
              "      <td>0</td>\n",
              "      <td>151 150 147 155 148 133 111 140 170 174 182 15...</td>\n",
              "      <td>Training</td>\n",
              "    </tr>\n",
              "    <tr>\n",
              "      <th>2</th>\n",
              "      <td>2</td>\n",
              "      <td>231 212 156 164 174 138 161 173 182 200 106 38...</td>\n",
              "      <td>Training</td>\n",
              "    </tr>\n",
              "    <tr>\n",
              "      <th>3</th>\n",
              "      <td>4</td>\n",
              "      <td>24 32 36 30 32 23 19 20 30 41 21 22 32 34 21 1...</td>\n",
              "      <td>Training</td>\n",
              "    </tr>\n",
              "    <tr>\n",
              "      <th>4</th>\n",
              "      <td>6</td>\n",
              "      <td>4 0 0 0 0 0 0 0 0 0 0 0 3 15 23 28 48 50 58 84...</td>\n",
              "      <td>Training</td>\n",
              "    </tr>\n",
              "  </tbody>\n",
              "</table>\n",
              "</div>\n",
              "      <button class=\"colab-df-convert\" onclick=\"convertToInteractive('df-29e82df8-6f45-48c6-b4cb-4b570f079d39')\"\n",
              "              title=\"Convert this dataframe to an interactive table.\"\n",
              "              style=\"display:none;\">\n",
              "        \n",
              "  <svg xmlns=\"http://www.w3.org/2000/svg\" height=\"24px\"viewBox=\"0 0 24 24\"\n",
              "       width=\"24px\">\n",
              "    <path d=\"M0 0h24v24H0V0z\" fill=\"none\"/>\n",
              "    <path d=\"M18.56 5.44l.94 2.06.94-2.06 2.06-.94-2.06-.94-.94-2.06-.94 2.06-2.06.94zm-11 1L8.5 8.5l.94-2.06 2.06-.94-2.06-.94L8.5 2.5l-.94 2.06-2.06.94zm10 10l.94 2.06.94-2.06 2.06-.94-2.06-.94-.94-2.06-.94 2.06-2.06.94z\"/><path d=\"M17.41 7.96l-1.37-1.37c-.4-.4-.92-.59-1.43-.59-.52 0-1.04.2-1.43.59L10.3 9.45l-7.72 7.72c-.78.78-.78 2.05 0 2.83L4 21.41c.39.39.9.59 1.41.59.51 0 1.02-.2 1.41-.59l7.78-7.78 2.81-2.81c.8-.78.8-2.07 0-2.86zM5.41 20L4 18.59l7.72-7.72 1.47 1.35L5.41 20z\"/>\n",
              "  </svg>\n",
              "      </button>\n",
              "      \n",
              "  <style>\n",
              "    .colab-df-container {\n",
              "      display:flex;\n",
              "      flex-wrap:wrap;\n",
              "      gap: 12px;\n",
              "    }\n",
              "\n",
              "    .colab-df-convert {\n",
              "      background-color: #E8F0FE;\n",
              "      border: none;\n",
              "      border-radius: 50%;\n",
              "      cursor: pointer;\n",
              "      display: none;\n",
              "      fill: #1967D2;\n",
              "      height: 32px;\n",
              "      padding: 0 0 0 0;\n",
              "      width: 32px;\n",
              "    }\n",
              "\n",
              "    .colab-df-convert:hover {\n",
              "      background-color: #E2EBFA;\n",
              "      box-shadow: 0px 1px 2px rgba(60, 64, 67, 0.3), 0px 1px 3px 1px rgba(60, 64, 67, 0.15);\n",
              "      fill: #174EA6;\n",
              "    }\n",
              "\n",
              "    [theme=dark] .colab-df-convert {\n",
              "      background-color: #3B4455;\n",
              "      fill: #D2E3FC;\n",
              "    }\n",
              "\n",
              "    [theme=dark] .colab-df-convert:hover {\n",
              "      background-color: #434B5C;\n",
              "      box-shadow: 0px 1px 3px 1px rgba(0, 0, 0, 0.15);\n",
              "      filter: drop-shadow(0px 1px 2px rgba(0, 0, 0, 0.3));\n",
              "      fill: #FFFFFF;\n",
              "    }\n",
              "  </style>\n",
              "\n",
              "      <script>\n",
              "        const buttonEl =\n",
              "          document.querySelector('#df-29e82df8-6f45-48c6-b4cb-4b570f079d39 button.colab-df-convert');\n",
              "        buttonEl.style.display =\n",
              "          google.colab.kernel.accessAllowed ? 'block' : 'none';\n",
              "\n",
              "        async function convertToInteractive(key) {\n",
              "          const element = document.querySelector('#df-29e82df8-6f45-48c6-b4cb-4b570f079d39');\n",
              "          const dataTable =\n",
              "            await google.colab.kernel.invokeFunction('convertToInteractive',\n",
              "                                                     [key], {});\n",
              "          if (!dataTable) return;\n",
              "\n",
              "          const docLinkHtml = 'Like what you see? Visit the ' +\n",
              "            '<a target=\"_blank\" href=https://colab.research.google.com/notebooks/data_table.ipynb>data table notebook</a>'\n",
              "            + ' to learn more about interactive tables.';\n",
              "          element.innerHTML = '';\n",
              "          dataTable['output_type'] = 'display_data';\n",
              "          await google.colab.output.renderOutput(dataTable, element);\n",
              "          const docLink = document.createElement('div');\n",
              "          docLink.innerHTML = docLinkHtml;\n",
              "          element.appendChild(docLink);\n",
              "        }\n",
              "      </script>\n",
              "    </div>\n",
              "  </div>\n",
              "  "
            ]
          },
          "metadata": {},
          "execution_count": 33
        }
      ]
    },
    {
      "cell_type": "code",
      "source": [
        "def preprocess_images(images):\n",
        "   images = np.array([np.fromstring(image, dtype=int, sep=' ').reshape(48, 48) for image in images])\n",
        "   images = np.expand_dims(images, axis=-1)\n",
        "   images = images / 255.0\n",
        "   return images\n",
        "\n",
        "images = preprocess_images(images)"
      ],
      "metadata": {
        "id": "hpASusBXaZKr"
      },
      "execution_count": null,
      "outputs": []
    },
    {
      "cell_type": "code",
      "source": [
        "X_train, X_test, y_train, y_test = train_test_split(images, labels, test_size=0.1, random_state=42)\n",
        "X_train, X_val, y_train, y_val = train_test_split(X_train, y_train, test_size=0.22, random_state=42)"
      ],
      "metadata": {
        "id": "WBNL6eqUacqj"
      },
      "execution_count": null,
      "outputs": []
    },
    {
      "cell_type": "code",
      "source": [
        "model = tf.keras.Sequential([\n",
        "    layers.Reshape((48, 48), input_shape=(48, 48, 1)),\n",
        "    layers.GRU(256, return_sequences=True),\n",
        "    layers.BatchNormalization(),\n",
        "    layers.Dropout(0.5),\n",
        "    layers.GRU(128, return_sequences=True),\n",
        "    layers.BatchNormalization(),\n",
        "    layers.Dropout(0.5),\n",
        "    layers.GRU(64),\n",
        "    layers.BatchNormalization(),\n",
        "    layers.Dropout(0.5),\n",
        "    layers.Dense(7, activation='softmax')\n",
        "])\n"
      ],
      "metadata": {
        "id": "4zqYAp7IaeRS"
      },
      "execution_count": null,
      "outputs": []
    },
    {
      "cell_type": "code",
      "source": [
        "model.compile(\n",
        "    optimizer=tf.keras.optimizers.Adam(learning_rate=0.001),\n",
        "    loss=tf.keras.losses.SparseCategoricalCrossentropy(),\n",
        "    metrics=['accuracy']\n",
        ")\n",
        "model.compile(optimizer='adam',\n",
        "              loss='sparse_categorical_crossentropy',\n",
        "              metrics=['accuracy'])\n",
        "model.fit(X_train, y_train, validation_data=(X_val, y_val), epochs=24)"
      ],
      "metadata": {
        "colab": {
          "base_uri": "https://localhost:8080/"
        },
        "id": "5vMGlld6af6b",
        "outputId": "de0c3965-529f-4f2f-efd5-4e735213e94b"
      },
      "execution_count": null,
      "outputs": [
        {
          "output_type": "stream",
          "name": "stdout",
          "text": [
            "Epoch 1/24\n",
            "788/788 [==============================] - 21s 17ms/step - loss: 2.1062 - accuracy: 0.2221 - val_loss: 1.8347 - val_accuracy: 0.2824\n",
            "Epoch 2/24\n",
            "788/788 [==============================] - 10s 13ms/step - loss: 1.7486 - accuracy: 0.3029 - val_loss: 1.6622 - val_accuracy: 0.3369\n",
            "Epoch 3/24\n",
            "788/788 [==============================] - 11s 14ms/step - loss: 1.6784 - accuracy: 0.3363 - val_loss: 1.6249 - val_accuracy: 0.3527\n",
            "Epoch 4/24\n",
            "788/788 [==============================] - 11s 14ms/step - loss: 1.6419 - accuracy: 0.3561 - val_loss: 1.6112 - val_accuracy: 0.3603\n",
            "Epoch 5/24\n",
            "788/788 [==============================] - 11s 14ms/step - loss: 1.6054 - accuracy: 0.3760 - val_loss: 1.6908 - val_accuracy: 0.3648\n",
            "Epoch 6/24\n",
            "788/788 [==============================] - 11s 14ms/step - loss: 1.5748 - accuracy: 0.3825 - val_loss: 1.5656 - val_accuracy: 0.3919\n",
            "Epoch 7/24\n",
            "788/788 [==============================] - 11s 13ms/step - loss: 1.5472 - accuracy: 0.3997 - val_loss: 1.5291 - val_accuracy: 0.3960\n",
            "Epoch 8/24\n",
            "788/788 [==============================] - 11s 13ms/step - loss: 1.5190 - accuracy: 0.4106 - val_loss: 1.4691 - val_accuracy: 0.4329\n",
            "Epoch 9/24\n",
            "788/788 [==============================] - 11s 14ms/step - loss: 1.4954 - accuracy: 0.4216 - val_loss: 1.4427 - val_accuracy: 0.4363\n",
            "Epoch 10/24\n",
            "788/788 [==============================] - 11s 14ms/step - loss: 1.4655 - accuracy: 0.4336 - val_loss: 1.4787 - val_accuracy: 0.4150\n",
            "Epoch 11/24\n",
            "788/788 [==============================] - 11s 14ms/step - loss: 1.4477 - accuracy: 0.4420 - val_loss: 1.4482 - val_accuracy: 0.4427\n",
            "Epoch 12/24\n",
            "788/788 [==============================] - 10s 13ms/step - loss: 1.4233 - accuracy: 0.4571 - val_loss: 1.4263 - val_accuracy: 0.4468\n",
            "Epoch 13/24\n",
            "788/788 [==============================] - 11s 14ms/step - loss: 1.3989 - accuracy: 0.4652 - val_loss: 1.4034 - val_accuracy: 0.4633\n",
            "Epoch 14/24\n",
            "788/788 [==============================] - 11s 14ms/step - loss: 1.3810 - accuracy: 0.4725 - val_loss: 1.4114 - val_accuracy: 0.4538\n",
            "Epoch 15/24\n",
            "788/788 [==============================] - 11s 14ms/step - loss: 1.3528 - accuracy: 0.4860 - val_loss: 1.4165 - val_accuracy: 0.4560\n",
            "Epoch 16/24\n",
            "788/788 [==============================] - 11s 14ms/step - loss: 1.3340 - accuracy: 0.4911 - val_loss: 1.4070 - val_accuracy: 0.4661\n",
            "Epoch 17/24\n",
            "788/788 [==============================] - 10s 13ms/step - loss: 1.3188 - accuracy: 0.4987 - val_loss: 1.3753 - val_accuracy: 0.4681\n",
            "Epoch 18/24\n",
            "788/788 [==============================] - 11s 14ms/step - loss: 1.2937 - accuracy: 0.5135 - val_loss: 1.3789 - val_accuracy: 0.4842\n",
            "Epoch 19/24\n",
            "788/788 [==============================] - 11s 14ms/step - loss: 1.2786 - accuracy: 0.5168 - val_loss: 1.3730 - val_accuracy: 0.4806\n",
            "Epoch 20/24\n",
            "788/788 [==============================] - 11s 14ms/step - loss: 1.2576 - accuracy: 0.5291 - val_loss: 1.4005 - val_accuracy: 0.4788\n",
            "Epoch 21/24\n",
            "788/788 [==============================] - 11s 14ms/step - loss: 1.2464 - accuracy: 0.5331 - val_loss: 1.3777 - val_accuracy: 0.4831\n",
            "Epoch 22/24\n",
            "788/788 [==============================] - 10s 13ms/step - loss: 1.2189 - accuracy: 0.5428 - val_loss: 1.4030 - val_accuracy: 0.4789\n",
            "Epoch 23/24\n",
            "788/788 [==============================] - 11s 14ms/step - loss: 1.2048 - accuracy: 0.5522 - val_loss: 1.3612 - val_accuracy: 0.4955\n",
            "Epoch 24/24\n",
            "788/788 [==============================] - 11s 14ms/step - loss: 1.1837 - accuracy: 0.5600 - val_loss: 1.4023 - val_accuracy: 0.4937\n"
          ]
        },
        {
          "output_type": "execute_result",
          "data": {
            "text/plain": [
              "<keras.callbacks.History at 0x7fe74f24deb0>"
            ]
          },
          "metadata": {},
          "execution_count": 37
        }
      ]
    }
  ]
}